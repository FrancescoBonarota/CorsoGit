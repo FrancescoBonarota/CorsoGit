{
 "cells": [
  {
   "cell_type": "markdown",
   "metadata": {},
   "source": [
    "Come calcolare il massimo tra due numeri"
   ]
  },
  {
   "cell_type": "code",
   "execution_count": null,
   "metadata": {},
   "outputs": [],
   "source": [
    "\n",
    "a = int(input(\"Inserisci il primo numero: \"))\n",
    "b = int(input(\"Inserisci il secondo numero: \"))\n",
    "\n",
    "if a == b:\n",
    "    print(f\"I numeri sono identici\")    \n",
    "elif a > b:\n",
    "    print(f\"Il numero massimo tra i due: {a}\")    \n",
    "else:\n",
    "    print(f\"Il numero massimo tra i due: {b}\")    \n"
   ]
  },
  {
   "cell_type": "markdown",
   "metadata": {},
   "source": [
    "Come calcolare il massimo tra due numeri con la funzione max"
   ]
  },
  {
   "cell_type": "code",
   "execution_count": null,
   "metadata": {},
   "outputs": [],
   "source": [
    "a = int(input(\"Inserisci il primo numero: \"))\n",
    "b = int(input(\"Inserisci il secondo numero: \"))\n",
    "\n",
    "if a == b:\n",
    "    print(f\"I numeri sono identici\")    \n",
    "else:\n",
    "    print(f\"Il numero massimo tra i due numeri: {max(a,b)}\")   \n"
   ]
  },
  {
   "cell_type": "code",
   "execution_count": null,
   "metadata": {},
   "outputs": [],
   "source": [
    "import pandas as pd\n",
    "\n",
    "def compute_avg(df_stud):\n",
    "    \"\"\"\n",
    "    Questa funzione calcola la media voto di ogni studente\n",
    "\n",
    "    :param df_stud: il dataframe che contiene tutti i voti degli studenti per ogni materia\n",
    "    :return: la media voto per ogni studente\n",
    "    \"\"\"\n",
    "\n",
    "     # Calcola la media dei voti per ogni studente\n",
    "    avg_votes = df_stud.mean(axis=0)  # Calcola la media lungo le righe per ogni colonna\n",
    "    return avg_votes\n",
    "\n",
    "\n",
    "def main():\n",
    "    # crea un dataframe con i voti degli studenti\n",
    "    students = {\n",
    "    \"francesco\": [7, 8, 5, 6],\n",
    "    \"andrea\": [8, 10, 7, 8],\n",
    "    \"gino\": [5, 6, 6, 6],\n",
    "    \"lorenzo\": [6, 7, 7, 8],\n",
    "    \"pino\": [4, 4, 3, 4]\n",
    "    }\n",
    "\n",
    "    df_stud = pd.DataFrame(students, index = [\"matematica\", \"informatica\", \"inglese\", \"italiano\"])\n",
    "\n",
    "    print(f\"I voti per ogni studente in ogni materia: \\n{df_stud}\") \n",
    "\n",
    "    avg_vote = compute_avg(df_stud)\n",
    "\n",
    "    print(f\"\\n\\nLa media voto per ogni studente: \\n{avg_vote}\")    \n",
    "\n",
    "\n",
    "if __name__ == \"__main__\":\n",
    "    main()"
   ]
  }
 ],
 "metadata": {
  "kernelspec": {
   "display_name": "Python 3",
   "language": "python",
   "name": "python3"
  },
  "language_info": {
   "codemirror_mode": {
    "name": "ipython",
    "version": 3
   },
   "file_extension": ".py",
   "mimetype": "text/x-python",
   "name": "python",
   "nbconvert_exporter": "python",
   "pygments_lexer": "ipython3",
   "version": "3.11.9"
  }
 },
 "nbformat": 4,
 "nbformat_minor": 2
}
