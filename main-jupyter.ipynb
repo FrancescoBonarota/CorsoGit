{
 "cells": [
  {
   "cell_type": "code",
   "execution_count": 3,
   "metadata": {},
   "outputs": [
    {
     "name": "stdout",
     "output_type": "stream",
     "text": [
      "Il numero massimo tra i due: 3\n"
     ]
    }
   ],
   "source": [
    "def main():\n",
    "    a = int(input(\"Inserisci il primo numero: \"))\n",
    "    b = int(input(\"Inserisci il secondo numero: \"))\n",
    "\n",
    "    if a == b:\n",
    "        print(f\"I numeri sono identici\")    \n",
    "    elif a > b:\n",
    "        print(f\"Il numero massimo tra i due: {a}\")    \n",
    "    else:\n",
    "        print(f\"Il numero massimo tra i due: {b}\")    \n",
    "\n",
    "\n",
    "if  __name__ == \"__main__\":\n",
    "    main()"
   ]
  }
 ],
 "metadata": {
  "kernelspec": {
   "display_name": "Python 3",
   "language": "python",
   "name": "python3"
  },
  "language_info": {
   "codemirror_mode": {
    "name": "ipython",
    "version": 3
   },
   "file_extension": ".py",
   "mimetype": "text/x-python",
   "name": "python",
   "nbconvert_exporter": "python",
   "pygments_lexer": "ipython3",
   "version": "3.11.9"
  }
 },
 "nbformat": 4,
 "nbformat_minor": 2
}
